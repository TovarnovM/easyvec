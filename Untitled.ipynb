{
 "cells": [
  {
   "cell_type": "code",
   "execution_count": 1,
   "metadata": {},
   "outputs": [],
   "source": [
    "%load_ext Cython"
   ]
  },
  {
   "cell_type": "code",
   "execution_count": 17,
   "metadata": {},
   "outputs": [
    {
     "name": "stderr",
     "output_type": "stream",
     "text": [
      "\n",
      "Error compiling Cython file:\n",
      "------------------------------------------------------------\n",
      "...\n",
      "#distutils: language = c++\n",
      "cdef void foo(int& a):\n",
      "    &a = 10\n",
      "   ^\n",
      "------------------------------------------------------------\n",
      "\n",
      "C:\\Users\\User\\.ipython\\cython\\_cython_magic_829c916ce5190b78fc6cb396e839d79b.pyx:3:4: Cannot assign to or delete this\n",
      "\n",
      "Error compiling Cython file:\n",
      "------------------------------------------------------------\n",
      "...\n",
      "#distutils: language = c++\n",
      "cdef void foo(int& a):\n",
      "    &a = 10\n",
      "        ^\n",
      "------------------------------------------------------------\n",
      "\n",
      "C:\\Users\\User\\.ipython\\cython\\_cython_magic_829c916ce5190b78fc6cb396e839d79b.pyx:3:9: Cannot assign type 'long' to 'int *'\n"
     ]
    }
   ],
   "source": [
    "%%cython -a\n",
    "#distutils: language = c++\n",
    "cdef void foo(int& a):\n",
    "    &a = 10\n",
    "    \n",
    "def foo2(a):\n",
    "    foo(a)\n",
    "    print(a)"
   ]
  },
  {
   "cell_type": "code",
   "execution_count": 14,
   "metadata": {},
   "outputs": [
    {
     "name": "stdout",
     "output_type": "stream",
     "text": [
      "1\n"
     ]
    }
   ],
   "source": [
    "foo2(1)"
   ]
  },
  {
   "cell_type": "code",
   "execution_count": 1,
   "metadata": {},
   "outputs": [],
   "source": [
    "import numpy as np"
   ]
  },
  {
   "cell_type": "code",
   "execution_count": 8,
   "metadata": {},
   "outputs": [
    {
     "data": {
      "text/plain": [
       "array([17, 39])"
      ]
     },
     "execution_count": 8,
     "metadata": {},
     "output_type": "execute_result"
    }
   ],
   "source": [
    "m = np.array([[1,2], [3,4]])\n",
    "v = np.array([5,6])\n",
    "m2 = np.array([[5,6], [7,8]])\n",
    "\n",
    "m @ v"
   ]
  },
  {
   "cell_type": "code",
   "execution_count": 3,
   "metadata": {},
   "outputs": [
    {
     "data": {
      "text/plain": [
       "array([23, 34])"
      ]
     },
     "execution_count": 3,
     "metadata": {},
     "output_type": "execute_result"
    }
   ],
   "source": [
    "v @ m"
   ]
  },
  {
   "cell_type": "code",
   "execution_count": 7,
   "metadata": {},
   "outputs": [
    {
     "data": {
      "text/plain": [
       "34"
      ]
     },
     "execution_count": 7,
     "metadata": {},
     "output_type": "execute_result"
    }
   ],
   "source": [
    "10 + 24"
   ]
  },
  {
   "cell_type": "code",
   "execution_count": 9,
   "metadata": {},
   "outputs": [
    {
     "data": {
      "text/plain": [
       "array([[19, 22],\n",
       "       [43, 50]])"
      ]
     },
     "execution_count": 9,
     "metadata": {},
     "output_type": "execute_result"
    }
   ],
   "source": [
    "m @ m2"
   ]
  },
  {
   "cell_type": "code",
   "execution_count": 10,
   "metadata": {},
   "outputs": [],
   "source": [
    "class C:\n",
    "    def __getitem__(self, key):\n",
    "        print(key)"
   ]
  },
  {
   "cell_type": "code",
   "execution_count": 12,
   "metadata": {},
   "outputs": [
    {
     "name": "stdout",
     "output_type": "stream",
     "text": [
      "slice(None, None, 1)\n"
     ]
    }
   ],
   "source": [
    "c = C()\n",
    "c[::1]"
   ]
  },
  {
   "cell_type": "code",
   "execution_count": 7,
   "metadata": {},
   "outputs": [
    {
     "name": "stdout",
     "output_type": "stream",
     "text": [
      "[[534.61445425 456.64159546]\n",
      " [542.77374195 860.59485325]]\n",
      "[[ 930.79354815  176.21468172]\n",
      " [ 306.25267373 -325.99288071]]\n"
     ]
    }
   ],
   "source": [
    "for ms in np.random.uniform(-720,720,(2,5)):\n",
    "    print((ms[:-1] + ms[-1]).reshape(2,2))"
   ]
  }
 ],
 "metadata": {
  "kernelspec": {
   "display_name": "Python 3",
   "language": "python",
   "name": "python3"
  },
  "language_info": {
   "codemirror_mode": {
    "name": "ipython",
    "version": 3
   },
   "file_extension": ".py",
   "mimetype": "text/x-python",
   "name": "python",
   "nbconvert_exporter": "python",
   "pygments_lexer": "ipython3",
   "version": "3.7.5"
  }
 },
 "nbformat": 4,
 "nbformat_minor": 4
}
